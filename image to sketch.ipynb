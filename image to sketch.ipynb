{
 "cells": [
  {
   "cell_type": "code",
   "execution_count": null,
   "metadata": {},
   "outputs": [],
   "source": [
    "!pip install streamlit"
   ]
  },
  {
   "cell_type": "code",
   "execution_count": null,
   "metadata": {},
   "outputs": [],
   "source": [
    "#Image to Pencil sketch app\n",
    "import streamlit as st\n",
    "import numpy as np\n",
    "from PIL import Image\n",
    "import cv2\n",
    "st.set_option('deprecation.showfileUploaderEncoding', False)\n",
    "def dodgeV2(x, y):\n",
    "    return cv2.divide(x, 255 - y, scale=256)\n",
    "\n",
    "def pencilsketch(inp_img):\n",
    "    img_gray = cv2.cvtColor(inp_img, cv2.COLOR_BGR2GRAY)\n",
    "    img_invert = cv2.bitwise_not(img_gray)\n",
    "    img_smoothing = cv2.GaussianBlur(img_invert, (21, 21),sigmaX=0, sigmaY=0)\n",
    "    final_img = dodgeV2(img_gray, img_smoothing)\n",
    "    return(final_img)\n",
    "\n",
    "st.title(\"PencilSketcher App\")\n",
    "st.write(\"This Web App is to help convert your photos to realistic Pencil Sketches\")\n",
    "file_image = st.sidebar.file_uploader(\"Upload your Photos\", type=['jpeg','jpg','png'])\n",
    "if file_image is None:\n",
    "    st.write(\"You haven't uploaded any image file\")\n",
    "else:\n",
    "    input_img = Image.open(file_image)\n",
    "    final_sketch = pencilsketch(np.array(input_img))\n",
    "    st.write(\"**Input Photo**\")\n",
    "    st.image(input_img, use_column_width=True)\n",
    "    st.write(\"**Output Pencil Sketch**\")\n",
    "    st.image(final_sketch, use_column_width=True)"
   ]
  },
  {
   "cell_type": "code",
   "execution_count": null,
   "metadata": {},
   "outputs": [],
   "source": []
  }
 ],
 "metadata": {
  "kernelspec": {
   "display_name": "Python 3",
   "language": "python",
   "name": "python3"
  },
  "language_info": {
   "codemirror_mode": {
    "name": "ipython",
    "version": 3
   },
   "file_extension": ".py",
   "mimetype": "text/x-python",
   "name": "python",
   "nbconvert_exporter": "python",
   "pygments_lexer": "ipython3",
   "version": "3.8.3"
  }
 },
 "nbformat": 4,
 "nbformat_minor": 4
}
